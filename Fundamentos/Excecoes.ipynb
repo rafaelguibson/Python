{
 "cells": [
  {
   "metadata": {},
   "cell_type": "markdown",
   "source": [
    "<h4>Tratamento de Erros e Excecoes em Python</h4>\n",
    "O tratamento de erros e excecoes em Python é fundamental para criar programas robustos e evitar erros inesperados que interrompam a execucao do codigo. O Python usa o conceito de <strong>excecoes</strong> para tratar erros de maneira controlada.\n",
    "<br><br>\n",
    "<strong>O que é uma excecao?</strong>\n",
    "<p>Uma excecao é um evento que ocorre durante a execucao de um programa e interrompe o fluxo normal de instrucoes. Quando uma excecao ocorre (um erro é \"lancado\"), o Python procura um manipulador para esse erro. Se não encontrar, o programa é encerrado.</p>\n",
    "<br>\n",
    "<strong>Excecoes comuns em Python</strong>\n",
    "<br>\n",
    "<ul>\n",
    "    <li><strong>ZeroDivisionError: </strong>Ocorre ao tentar dividir um numero por zero.</li>\n",
    "    <li><strong>ValueError: </strong>Lancado quando uma funcao recebe um argumento com o tipo incorreto.</li>\n",
    "    <li><strong>TypeError: </strong>Ocorre quando uma operacao ou uma funcao é aplicada a um objeto de tipo inadequado.</li>\n",
    "    <li><strong>IndexError: </strong>Lancada quando se tenta acessar o indice que não existe em uma lista.</li>\n",
    "    <li><strong>KeyError: </strong>Ocorre ao tentar acessar uma chave inexistente em um dicionario.</li>\n",
    "</ul>\n",
    "<br>\n",
    "<h4>Estrutura Basica de Tratamento de Excecoes</h4>\n",
    "Em Pyhton, usamos o bloco <strong>try-except</strong> para capturar e tratar excecoes de maneira controlada. A estrutura basica é:\n",
    "\n",
    "try:<br>\n",
    "    <pre># codigo que pode gerar uma excecao</pre>\n",
    "    \n",
    "except:<br>\n",
    "    # <pre>codigo que sera executado caso uma excecao ocorra.</pre>\n",
    "\n"
   ],
   "id": "7ffb464390fc950f"
  },
  {
   "metadata": {
    "collapsed": true
   },
   "cell_type": "code",
   "outputs": [],
   "execution_count": null,
   "source": [
    "try:\n",
    "    x = 10 / 0\n",
    "    print(x)\n",
    "except ZeroDivisionError:\n",
    "    print(\"Nao é possivel a divisao por zero.\")"
   ],
   "id": "initial_id"
  },
  {
   "metadata": {},
   "cell_type": "markdown",
   "source": [
    "<h4>Clausulas else e finally</h4>\n",
    "<ul>\n",
    "    <li><strong>else: </strong>O bloco else é executado se nenhuma excecao for lancada no bloco try.</li>\n",
    "<ul>"
   ],
   "id": "99f3296c94a6d8c5"
  },
  {
   "metadata": {},
   "cell_type": "code",
   "outputs": [],
   "execution_count": null,
   "source": [
    "try:\n",
    "    numero = int(input(\"Digite um numero: \"))\n",
    "except ValueError:\n",
    "    print(\"Nao é um numero.\")\n",
    "else:\n",
    "    print(numero)"
   ],
   "id": "ed8ddea7c2fa0bb1"
  },
  {
   "metadata": {},
   "cell_type": "markdown",
   "source": [
    "<ul>\n",
    "    <li><strong>finally: </strong>O bloco finally é sempre executado, independentemente de ocorrer ou não uma excecao. Ela é util para liberar recursos, como fechar arquivos ou conexoes de rede.</li>\n",
    "<ul>"
   ],
   "id": "4a16f04b68648873"
  },
  {
   "metadata": {
    "ExecuteTime": {
     "end_time": "2024-10-02T13:01:41.634258Z",
     "start_time": "2024-10-02T13:01:41.630291Z"
    }
   },
   "cell_type": "code",
   "source": [
    "try:\n",
    "    arquivo = open(\"files/arquivo.txt\", \"w\")\n",
    "except FileNotFoundError:\n",
    "    print(\"File Not Found.\")\n",
    "finally:\n",
    "    print(\"Finishing proccess...\")\n",
    "    arquivo.close()\n",
    "    "
   ],
   "id": "fc1e45c3fcf838db",
   "outputs": [
    {
     "name": "stdout",
     "output_type": "stream",
     "text": [
      "Finishing proccess...\n"
     ]
    }
   ],
   "execution_count": 2
  },
  {
   "metadata": {},
   "cell_type": "markdown",
   "source": [
    "<h4>Lançando Exceções com raise</h4>\n",
    "<br>Você pode lançar exceções usando a palavra-chave <strong>raise</strong>.Isso é útil quando você quer que seu codigo avise sobre um erro específico."
   ],
   "id": "5b813853d01dcbc2"
  },
  {
   "metadata": {
    "ExecuteTime": {
     "end_time": "2024-10-02T13:03:29.356083Z",
     "start_time": "2024-10-02T13:03:29.351858Z"
    }
   },
   "cell_type": "code",
   "source": [
    "def verificar_idade(idade):\n",
    "    if idade < 18:\n",
    "        raise ValueError(\"Idade deve ser o maior ou igual a 18.\")\n",
    "    else:\n",
    "        print(\"Idade válida\")\n",
    "        \n",
    "try:\n",
    "    verificar_idade(15)\n",
    "except ValueError as e:\n",
    "    print(e)"
   ],
   "id": "1c6d0e503387e5c6",
   "outputs": [
    {
     "name": "stdout",
     "output_type": "stream",
     "text": [
      "Idade deve ser o maior ou igual a 18.\n"
     ]
    }
   ],
   "execution_count": 3
  },
  {
   "metadata": {},
   "cell_type": "markdown",
   "source": [
    "<h4>Capturando Múltiplas Exceções</h4>\n",
    "<br>Você pode capturar mais de um tipo de exceção usando uma tupla de exceções no bloco <strong>except</strong>."
   ],
   "id": "bd9ec18a22524e53"
  },
  {
   "metadata": {
    "ExecuteTime": {
     "end_time": "2024-10-02T13:06:52.124229Z",
     "start_time": "2024-10-02T13:06:47.856812Z"
    }
   },
   "cell_type": "code",
   "source": [
    "try:\n",
    "    valor = int(input(\"Digite um número: \"))\n",
    "    resultado = 10 / valor\n",
    "except (ValueError, ZeroDivisionError) as e:\n",
    "    print(f\"Erro: {e}\")"
   ],
   "id": "590a29d418dfbd9c",
   "outputs": [
    {
     "name": "stdout",
     "output_type": "stream",
     "text": [
      "Erro: division by zero\n"
     ]
    }
   ],
   "execution_count": 5
  },
  {
   "metadata": {},
   "cell_type": "markdown",
   "source": [
    "<h4>Exceção Genérica</h4>\n",
    "<br>Você pode capturar qualquer exceção usando apenas except: (sem especificar o tipo de exceção). Isso captura <strong>todas</strong> as exceções, mas é recomendadp usar exceções especificas sempre que possivel."
   ],
   "id": "395409d177b39e47"
  },
  {
   "metadata": {
    "ExecuteTime": {
     "end_time": "2024-10-02T13:10:24.204647Z",
     "start_time": "2024-10-02T13:10:21.734028Z"
    }
   },
   "cell_type": "code",
   "source": [
    "try:\n",
    "    resultado = 10 / int(input(\"Digite um número: \"))\n",
    "except:\n",
    "    print(\"Ocorreu um erro.\")"
   ],
   "id": "75259c4b4bfe04ad",
   "outputs": [
    {
     "name": "stdout",
     "output_type": "stream",
     "text": [
      "Ocorreu um erro.\n"
     ]
    }
   ],
   "execution_count": 6
  },
  {
   "metadata": {},
   "cell_type": "markdown",
   "source": [
    "<h4>Exceções Personalizadas</h4>\n",
    "<br>Você pode criar suas próprias exceções herdando da classe Exception. Isso é útil para definir regras de negócio ou erros mais específicos no seu programa."
   ],
   "id": "3ecf2722ec2b5929"
  },
  {
   "metadata": {},
   "cell_type": "code",
   "outputs": [],
   "execution_count": null,
   "source": [
    "class ErroPersonalizado(Exception):\n",
    "    pass\n",
    "\n",
    "\n",
    "def verificar_numero(numero):\n",
    "    if numero < 0:\n",
    "        raise ErroPersonalizado(\"O numero não pode ser negativo\")\n",
    "\n",
    "try:\n",
    "    verificar_numero(-5)\n",
    "except ErroPersonalizado as e:\n",
    "    print(e)"
   ],
   "id": "807139f234813a11"
  },
  {
   "metadata": {},
   "cell_type": "markdown",
   "source": "<li>Também é possível passar mensagens personalizadas para as exceções.</li>",
   "id": "edd694b2714eca0c"
  },
  {
   "metadata": {
    "ExecuteTime": {
     "end_time": "2024-10-02T13:28:55.936267Z",
     "start_time": "2024-10-02T13:28:55.932129Z"
    }
   },
   "cell_type": "code",
   "source": [
    "# Definindo uma classe de exceção personalizada\n",
    "class UsuarioNaoEncontrado(Exception):\n",
    "    def __init__(self, nome):\n",
    "        self.nome = nome\n",
    "        super().__init__(f\"O usuário {self.nome} não foi encontrado.\")\n",
    "\n",
    "# Função que simula a busca de um usuário\n",
    "def buscar_usuario(nome):\n",
    "    usuarios = [\"Alice\", \"Rafael\", \"Fernando\", \"Ariel\", \"Gabriel\"]\n",
    "    if nome not in usuarios:\n",
    "        # Lançando a exceção personalizada se o usuário não for encontrado\n",
    "        raise UsuarioNaoEncontrado(nome)\n",
    "    else:\n",
    "        return f\"Usuario {nome} encontrado.\"\n",
    "    \n",
    "# Testando a exceção personalizada\n",
    "try:\n",
    "    resultado = buscar_usuario(\"Luan\")\n",
    "    print(resultado)\n",
    "except UsuarioNaoEncontrado as e:\n",
    "    print(e) # Saida da exceção"
   ],
   "id": "2c3d586de6247766",
   "outputs": [
    {
     "name": "stdout",
     "output_type": "stream",
     "text": [
      "O usuário Luan não foi encontrado.\n"
     ]
    }
   ],
   "execution_count": 8
  },
  {
   "metadata": {},
   "cell_type": "markdown",
   "source": [
    "<h4>Resumo</h4>\n",
    "<br>\n",
    "<li><strong>Exceções</strong> ajudam a tratar erros de forma controlada, prevenindo que o programa pare de funcionar abruptamente.</li>\n",
    "<li>Usamos <strong>try-except</strong> para capturar erros e definir um comportamento alternativo.</li>\n",
    "<li>A cláusuka <strong>else</strong> é executada se não houver erros, e finally é sempre executada mesmo quando ocorrem exceções.</li>\n",
    "<li>Podemos lançar exceções manualmente com <strong>raise</strong> e até criar exceções personalizadas para nossos próprios casos de erro.</li>\n",
    "\n",
    "<br>Essas Ferramentas são essênciais para escrever o codigo rebusto e lidar com situações imprevisíveis de maneira eficaz."
   ],
   "id": "4d509ca22bcece06"
  }
 ],
 "metadata": {
  "kernelspec": {
   "display_name": "Python 3",
   "language": "python",
   "name": "python3"
  },
  "language_info": {
   "codemirror_mode": {
    "name": "ipython",
    "version": 2
   },
   "file_extension": ".py",
   "mimetype": "text/x-python",
   "name": "python",
   "nbconvert_exporter": "python",
   "pygments_lexer": "ipython2",
   "version": "2.7.6"
  }
 },
 "nbformat": 4,
 "nbformat_minor": 5
}
