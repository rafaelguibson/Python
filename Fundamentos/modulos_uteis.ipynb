{
 "cells": [
  {
   "metadata": {},
   "cell_type": "markdown",
   "source": [
    "<h4>Modulos Uteis</h4>\n",
    "\n",
    "       - Biblioteca math\n",
    "       - Biblioteca datetime\n",
    "       - Biblioteca random\n",
    "       - Biblioteca time\n"
   ],
   "id": "36b05842b6ab7a67"
  },
  {
   "metadata": {},
   "cell_type": "markdown",
   "source": [
    "<h4>Biblioteca math</h4>\n",
    "A biblioteca math fornece funcoes matematicas avancadas, como operacoes trigonometricas, logaritmos, arredondamentos e outras funcoes matematicas uteis.\n",
    "<br>\n",
    "<strong>Principais funcoes:</strong><br>\n",
    "    <ul>\n",
    "        <li>math.sqrt(x): Calcula a raiz quadrada de x.</li>\n",
    "        <li>math.pow(x, y): calcula a potencia de x elevado ao expoente y.</li>\n",
    "        <li>math.pi: Retorna o valor da constante de pi.</li>\n",
    "        <li>math.factorial(x): Calcula o fatorial de x.</li>\n",
    "        <li>math.sin(x), math.cos(x), math.tan(x): Funcoes trigonometricas</li>\n",
    "    </ul>"
   ],
   "id": "b7e0434550e1ff91"
  },
  {
   "metadata": {
    "collapsed": true,
    "ExecuteTime": {
     "end_time": "2024-09-30T20:33:36.913921Z",
     "start_time": "2024-09-30T20:33:36.904344Z"
    }
   },
   "cell_type": "code",
   "source": [
    "import math\n",
    "\n",
    "#Raiz quadrada\n",
    "print(math.sqrt(16))\n",
    "\n",
    "# Potencia\n",
    "print(math.pow( 2, 3 ))\n",
    "\n",
    "# Valor de Pi\n",
    "print(math.pi)\n",
    "\n",
    "# Fatorial\n",
    "print(math.factorial(5))"
   ],
   "id": "initial_id",
   "outputs": [
    {
     "name": "stdout",
     "output_type": "stream",
     "text": [
      "4.0\n",
      "8.0\n",
      "3.141592653589793\n",
      "120\n"
     ]
    }
   ],
   "execution_count": 1
  },
  {
   "metadata": {},
   "cell_type": "markdown",
   "source": "",
   "id": "10e773bc4d807284"
  },
  {
   "metadata": {},
   "cell_type": "markdown",
   "source": [
    "<h4>Biblioteca datetime</h4>\n",
    "A biblioteca <strong>datetime</strong> é usada para manipular datas e horarios. Ela fornece classe para trabalhar com data, hora, e intervalos de tempo. \n",
    "<br>\n",
    "<strong>Principais funcoes:</strong><br>\n",
    "    <ul>\n",
    "        <li>datetime.datetime.now(): Retorna a data e hora atual.</li>\n",
    "        <li>datetime.date(year, month, day): Cria um objeto de data.</li>\n",
    "        <li>datetime.timedelta(days, seconds, ...): Representa a diferenca entre duas datas/horas</li>\n",
    "        <li>stfrtime(): Converte uma data para string em um formato especifico.</li>\n",
    "        <li>strptime(): Converte uma string em uma data, seguindo um formato especifico</li>\n",
    "    </ul>"
   ],
   "id": "ba9a6e931e9eea7b"
  },
  {
   "metadata": {
    "ExecuteTime": {
     "end_time": "2024-10-01T18:03:36.523272Z",
     "start_time": "2024-10-01T18:03:36.519219Z"
    }
   },
   "cell_type": "code",
   "source": [
    "import datetime\n",
    "\n",
    "# Data e hora atuais\n",
    "agora = datetime.datetime.now()\n",
    "print(agora)\n",
    "\n",
    "# Criar uma data especifica\n",
    "data = datetime.date(2024, 12, 25)\n",
    "print(data)\n",
    "\n",
    "# Adiciona 10 dias a uma data\n",
    "nova_data = agora + datetime.timedelta(days=10)\n",
    "print(nova_data)\n",
    "\n",
    "# Formatar a data\n",
    "print(agora.strftime(\"%d-%m-%Y %H:%M:%S\"))"
   ],
   "id": "dbee8c85efce8652",
   "outputs": [
    {
     "name": "stdout",
     "output_type": "stream",
     "text": [
      "2024-10-01 15:03:36.521238\n",
      "2024-12-25\n",
      "2024-10-11 15:03:36.521238\n",
      "01-10-2024 15:03:36\n"
     ]
    }
   ],
   "execution_count": 2
  },
  {
   "metadata": {},
   "cell_type": "markdown",
   "source": [
    "\n",
    "<h4>Biblioteca random</h4>\n",
    "A biblioteca <strong>random</strong> é usada para gerar numeros aleatorios, amostrar sequencias e realizar escolhas aleatorias.\n",
    "<br>\n",
    "<strong>Principais funcoes:</strong><br>\n",
    "    <ul>\n",
    "        <li><strong>random.random(): </strong>Gera um numero aleatorio entre 0 e 1.</li>\n",
    "        <li><strong>random.randint(a, b): </strong>Gera um numero inteiro aleatorio entre a e b.</li>\n",
    "        <li><strong>random.choice(lista): </strong>Seleciona um item aleatorio de uma lista.</li>\n",
    "        <li><strong>random.shuffle(lista): </strong>Embaralha os itens de uma lista.</li>\n",
    "        <li><strong>random.sample(lista, k): </strong>Retorna uma lista com k elementos selecionados aleatoriamente.</li>\n",
    "    </ul>"
   ],
   "id": "4b903752699f5596"
  },
  {
   "metadata": {
    "ExecuteTime": {
     "end_time": "2024-10-01T18:13:20.274436Z",
     "start_time": "2024-10-01T18:13:20.270597Z"
    }
   },
   "cell_type": "code",
   "source": [
    "import random\n",
    "\n",
    "# Numero aleatorio entre 0 e 1\n",
    "print(random.random())\n",
    "\n",
    "# Numero inteiro aleatorio entre 1 e 10\n",
    "print(random.randint(1, 10))\n",
    "\n",
    "# Escolher um item aleatorio de uma lista\n",
    "lista = ['Banana', 'Maçã', 'Pera', 'Uva', 'Mamão', 'Abacate']\n",
    "print(random.choice(lista))\n",
    "\n",
    "# Embaralhar lista\n",
    "random.shuffle(lista)\n",
    "print(lista)\n",
    "\n",
    "# Selecionar 2 elementos aleatorios da lista\n",
    "print(random.sample(lista, 2))"
   ],
   "id": "9cc4bff4cd96b05a",
   "outputs": [
    {
     "name": "stdout",
     "output_type": "stream",
     "text": [
      "0.7504545881326915\n",
      "10\n",
      "Abacate\n",
      "['Mamão', 'Banana', 'Pera', 'Uva', 'Abacate', 'Maçã']\n",
      "['Mamão', 'Uva']\n"
     ]
    }
   ],
   "execution_count": 3
  },
  {
   "metadata": {},
   "cell_type": "markdown",
   "source": [
    "\n",
    "<h4>Biblioteca time</h4>\n",
    "A biblioteca <strong>time</strong> oferece funcoes para trabalhar com tempo, incluindo medição de intervalos e a conversão de representação de tempo.\n",
    "<br>\n",
    "<strong>Principais funcoes:</strong><br>\n",
    "    <ul>\n",
    "        <li><strong>time.time():</strong> Retorna o tempo atual em segundos desde a \"era Unix\" (1970).</li>\n",
    "        <li><strong>time.sleep(segundos):</strong> Suspende a execução do programa por segundos especificados.</li>\n",
    "        <li><strong>time.ctime():</strong> Converte o timestamp em uma string legivel de data e hora.</li>\n",
    "        <li><strong>time.stdftime():</strong> Formata o tempo em uma string de acordo com formato espeficiado.</li>\n",
    "        <li></li>\n",
    "    </ul>"
   ],
   "id": "b3b01a23f4b456a0"
  },
  {
   "metadata": {
    "ExecuteTime": {
     "end_time": "2024-10-01T18:27:24.453251Z",
     "start_time": "2024-10-01T18:27:22.445330Z"
    }
   },
   "cell_type": "code",
   "source": [
    "import time\n",
    "\n",
    "# Time atual em segundos desde 1º de Janeiro de 1970\n",
    "print(time.time())\n",
    "\n",
    "# Pausar o programa por 2 segundos\n",
    "time.sleep(2)\n",
    "\n",
    "# Data e hora atuais em formato legivel\n",
    "print(time.ctime())\n",
    "\n",
    "# Formatar hora atual\n",
    "print(time.strftime(\"%Y-%m-%d %H:%M:%S\", time.localtime()))"
   ],
   "id": "6a9a350abfedf7f9",
   "outputs": [
    {
     "name": "stdout",
     "output_type": "stream",
     "text": [
      "1727807242.4477756\n",
      "Tue Oct  1 15:27:24 2024\n",
      "2024-10-01 15:27:24\n"
     ]
    },
    {
     "data": {
      "text/plain": [
       "['_STRUCT_TM_ITEMS',\n",
       " '__doc__',\n",
       " '__loader__',\n",
       " '__name__',\n",
       " '__package__',\n",
       " '__spec__',\n",
       " 'altzone',\n",
       " 'asctime',\n",
       " 'ctime',\n",
       " 'daylight',\n",
       " 'get_clock_info',\n",
       " 'gmtime',\n",
       " 'localtime',\n",
       " 'mktime',\n",
       " 'monotonic',\n",
       " 'monotonic_ns',\n",
       " 'perf_counter',\n",
       " 'perf_counter_ns',\n",
       " 'process_time',\n",
       " 'process_time_ns',\n",
       " 'sleep',\n",
       " 'strftime',\n",
       " 'strptime',\n",
       " 'struct_time',\n",
       " 'thread_time',\n",
       " 'thread_time_ns',\n",
       " 'time',\n",
       " 'time_ns',\n",
       " 'timezone',\n",
       " 'tzname']"
      ]
     },
     "execution_count": 5,
     "metadata": {},
     "output_type": "execute_result"
    }
   ],
   "execution_count": 5
  },
  {
   "metadata": {},
   "cell_type": "markdown",
   "source": [
    "<h4>Resumo:</h4>\n",
    "<ul>\n",
    "    <li><strong>math:</strong> Funcoes matematicas avancadas.</li>\n",
    "    <li><strong>datetime:</strong> Manipulacao de datas e horarios.</li>\n",
    "    <li><strong>random:</strong> Geracao de numeroe escolhas aleatorias.</li>\n",
    "    <li><strong>time:</strong> Medicao e controle do tempo em excecucao e manipulacao de data/hora em nivel de sistema.</li>\n",
    "</ul>"
   ],
   "id": "d61a6b93ef88ce6f"
  }
 ],
 "metadata": {
  "kernelspec": {
   "display_name": "Python 3",
   "language": "python",
   "name": "python3"
  },
  "language_info": {
   "codemirror_mode": {
    "name": "ipython",
    "version": 2
   },
   "file_extension": ".py",
   "mimetype": "text/x-python",
   "name": "python",
   "nbconvert_exporter": "python",
   "pygments_lexer": "ipython2",
   "version": "2.7.6"
  }
 },
 "nbformat": 4,
 "nbformat_minor": 5
}
