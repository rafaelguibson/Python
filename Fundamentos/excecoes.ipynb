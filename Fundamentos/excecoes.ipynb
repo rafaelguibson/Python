{
 "cells": [
  {
   "metadata": {},
   "cell_type": "markdown",
   "source": [
    "<h4>Tratamento de Erros e Excecoes em Python</h4>\n",
    "O tratamento de erros e excecoes em Python é fundamental para criar programas robustos e evitar erros inesperados que interrompam a execucao do codigo. O Python usa o conceito de <strong>excecoes</strong> para tratar erros de maneira controlada.\n",
    "<br><br>\n",
    "<strong>O que é uma excecao?</strong>\n",
    "<p>Uma excecao é um evento que ocorre durante a execucao de um programa e interrompe o fluxo normal de instrucoes. Quando uma excecao ocorre (um erro é \"lancado\"), o Python procura um manipulador para esse erro. Se não encontrar, o programa é encerrado.</p>\n",
    "<br>\n",
    "<strong>Excecoes comuns em Python</strong>\n",
    "<br>\n",
    "<ul>\n",
    "    <li><strong>ZeroDivisionError: </strong>Ocorre ao tentar dividir um numero por zero.</li>\n",
    "    <li><strong>ValueError: </strong>Lancado quando uma funcao recebe um argumento com o tipo incorreto.</li>\n",
    "    <li><strong>TypeError: </strong>Ocorre quando uma operacao ou uma funcao é aplicada a um objeto de tipo inadequado.</li>\n",
    "    <li><strong>IndexError: </strong>Lancada quando se tenta acessar o indice que não existe em uma lista.</li>\n",
    "    <li><strong>KeyError: </strong>Ocorre ao tentar acessar uma chave inexistente em um dicionario.</li>\n",
    "</ul>\n",
    "<br>\n",
    "<h4>Estrutura Basica de Tratamento de Excecoes</h4>\n",
    "Em Pyhton, usamos o bloco <strong>try-except</strong> para capturar e tratar excecoes de maneira controlada. A estrutura basica é:\n",
    "\n",
    "try:<br>\n",
    "    <pre># codigo que pode gerar uma excecao</pre>\n",
    "    \n",
    "except:<br>\n",
    "    # <pre>codigo que sera executado caso uma excecao ocorra.</pre>\n",
    "\n"
   ],
   "id": "7ffb464390fc950f"
  },
  {
   "metadata": {
    "collapsed": true
   },
   "cell_type": "code",
   "outputs": [],
   "execution_count": null,
   "source": [
    "try:\n",
    "    x = 10 / 0\n",
    "    print(x)\n",
    "except ZeroDivisionError:\n",
    "    print(\"Nao é possivel a divisao por zero.\")"
   ],
   "id": "initial_id"
  },
  {
   "metadata": {},
   "cell_type": "markdown",
   "source": [
    "<h4>Clausulas else e finally</h4>\n",
    "<ul>\n",
    "    <li><strong>else: </strong>O bloco else é executado se nenhuma excecao for lancada no bloco try.</li>\n",
    "<ul>"
   ],
   "id": "99f3296c94a6d8c5"
  },
  {
   "metadata": {},
   "cell_type": "code",
   "outputs": [],
   "execution_count": null,
   "source": [
    "try:\n",
    "    numero = int(input(\"Digite um numero: \"))\n",
    "except ValueError:\n",
    "    print(\"Nao é um numero.\")\n",
    "else:\n",
    "    print(numero)"
   ],
   "id": "ed8ddea7c2fa0bb1"
  },
  {
   "metadata": {},
   "cell_type": "markdown",
   "source": [
    "<ul>\n",
    "    <li><strong>finally: </strong>O bloco finally é sempre executado, independentemente de ocorrer ou não uma excecao. Ela é util para liberar recursos, como fechar arquivos ou conexoes de rede.</li>\n",
    "<ul>"
   ],
   "id": "4a16f04b68648873"
  },
  {
   "metadata": {},
   "cell_type": "code",
   "outputs": [],
   "execution_count": null,
   "source": [
    "try:\n",
    "    arquivo = open(\"arquivo.txt\", \"w\")\n",
    "except FileNotFoundError:\n",
    "    print(\"File Not Found.\")"
   ],
   "id": "fc1e45c3fcf838db"
  }
 ],
 "metadata": {
  "kernelspec": {
   "display_name": "Python 3",
   "language": "python",
   "name": "python3"
  },
  "language_info": {
   "codemirror_mode": {
    "name": "ipython",
    "version": 2
   },
   "file_extension": ".py",
   "mimetype": "text/x-python",
   "name": "python",
   "nbconvert_exporter": "python",
   "pygments_lexer": "ipython2",
   "version": "2.7.6"
  }
 },
 "nbformat": 4,
 "nbformat_minor": 5
}
