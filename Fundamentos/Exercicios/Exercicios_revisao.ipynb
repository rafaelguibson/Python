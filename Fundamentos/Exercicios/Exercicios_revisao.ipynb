{
 "cells": [
  {
   "metadata": {},
   "cell_type": "markdown",
   "source": [
    "<h4>1. Manipulação de Listas</h4>\n",
    "Crie uma função que recebe uma lista de números inteiros e retorna a lista sem números duplicados, mantendo a ordem original dos elementos."
   ],
   "id": "504fcabeda89fb75"
  },
  {
   "metadata": {
    "collapsed": true,
    "ExecuteTime": {
     "end_time": "2024-10-07T20:23:49.350195Z",
     "start_time": "2024-10-07T20:23:49.341422Z"
    }
   },
   "cell_type": "code",
   "source": [
    "# Passo a Passo:\n",
    "    # 1. Criar uma função que recebe uma lista\n",
    "    # 2. Verificar Números duplicados, manter ordem\n",
    "    \n",
    "def remover_duplicados(lista):\n",
    "    return list(set(lista))\n",
    "\n",
    "lista_numeros = [ 1, 2, 3, 4, 5, 6, 7, 8, 9, 10, 11, 12, 13, 14, 14, 15, 15, ]\n",
    "print(remover_duplicados(lista_numeros))"
   ],
   "id": "initial_id",
   "outputs": [
    {
     "name": "stdout",
     "output_type": "stream",
     "text": [
      "[1, 2, 3, 4, 5, 6, 7, 8, 9, 10, 11, 12, 13, 14, 15]\n"
     ]
    }
   ],
   "execution_count": 1
  },
  {
   "metadata": {},
   "cell_type": "markdown",
   "source": [
    "<h4>2. Manipulação de Tuplas</h4>\n",
    "Escreva uma função que recebe uma tupla de strings e retorne uma nova tupla contendo apenas as string que começam com uma vogal."
   ],
   "id": "a97fc382460009be"
  },
  {
   "metadata": {
    "ExecuteTime": {
     "end_time": "2024-10-07T20:58:11.223747Z",
     "start_time": "2024-10-07T20:58:11.219099Z"
    }
   },
   "cell_type": "code",
   "source": [
    "# Passo a Passo:\n",
    "    # 1. Criar uma função que recebe uma tupla\n",
    "    # 2. Verificar se a string começa com uma vogal\n",
    "    # 3. Adicionar a uma nova tupla\n",
    "    # 4. Retornar a nova tupla\n",
    "import re\n",
    "    \n",
    "def verificar_tupla(tupla):\n",
    "    # Expressão regular para verificar strings que começam com vogal\n",
    "    padrao = r'^[aeiouAEIOU]'\n",
    "    \n",
    "    # Filtrar string que começam com vogal\n",
    "    resultado = tuple(s for s in tupla if re.match(padrao, s))\n",
    "    return resultado\n",
    "\n",
    "tupla1 = ( 'Rafael', 'Ariel', 'João', 'Fernanda', 'Anna', 'Iago' )\n",
    "tupla2 = verificar_tupla(tupla1)\n",
    "print(tupla2)\n"
   ],
   "id": "5d958f5655a8d0dc",
   "outputs": [
    {
     "name": "stdout",
     "output_type": "stream",
     "text": [
      "('Ariel', 'Anna', 'Iago')\n"
     ]
    }
   ],
   "execution_count": 9
  },
  {
   "metadata": {},
   "cell_type": "markdown",
   "source": [
    "<h4>3. Dicionários</h4>\n",
    "Crie um dicionário para armazenar nome e nota de 5 alunos. Em seguida, faça uma função que exiba a média das notas"
   ],
   "id": "f4dddd6e7f91b5c2"
  },
  {
   "metadata": {
    "ExecuteTime": {
     "end_time": "2024-10-08T12:03:37.027491Z",
     "start_time": "2024-10-08T12:03:37.018572Z"
    }
   },
   "cell_type": "code",
   "source": [
    "# Passo a Passo\n",
    "    # 1. Criar uma função que recebe um dicionario chave:aluno, valor: nota\n",
    "    # 2. Calcular a Média das notas\n",
    "    # 3. Retornar a média das notas\n",
    "\n",
    "alunos = {\n",
    "    'Ana': 8.5,\n",
    "    'Beto': 7.0,\n",
    "    'Carlos': 9.0,\n",
    "    'Daniela': 6.5,\n",
    "    'Eduardo': 8.0\n",
    "}\n",
    "\n",
    "def calcular_media(dicionario):\n",
    "    # Somar total de notas\n",
    "    total = sum(dicionario.values())\n",
    "    # Calcular media\n",
    "    media = total / len(dicionario)\n",
    "    print(f\"Média das notas: {media:.2f}\")\n",
    "    \n",
    "# Testar função\n",
    "calcular_media(alunos)"
   ],
   "id": "e36c83f9ceafaf56",
   "outputs": [
    {
     "name": "stdout",
     "output_type": "stream",
     "text": [
      "Média das notas: 7.80\n"
     ]
    }
   ],
   "execution_count": 1
  },
  {
   "metadata": {},
   "cell_type": "markdown",
   "source": [
    "<h4>4. Conjuntos</h4>\n",
    "Escreva um programa que receba duas listas de números inteiros, converta cada uma em um conjunto, e exiba os números que aparecem em ambas as listas (interseção).\n"
   ],
   "id": "689a87359d3bec4c"
  },
  {
   "metadata": {
    "ExecuteTime": {
     "end_time": "2024-10-08T12:59:09.243682Z",
     "start_time": "2024-10-08T12:59:09.093700Z"
    }
   },
   "cell_type": "code",
   "source": [
    "# Passo a passo\n",
    "    # 1.Criar um metodo que recebe duas listas de inteiros\n",
    "    # 2.Cconverter cada lista em um conjunto\n",
    "    # 3.Efetuar operação de intersecção sobre os conjuntos\n",
    "    # 4.Exibir resultado da operação\n",
    "\n",
    "def intersec_listas(lst1, lst2):\n",
    "    conjunto1 = set(lst1)\n",
    "    conjunto2 = set(lst2)\n",
    "    intersec = conjunto1.intersection(conjunto2)\n",
    "    return intersec\n",
    "\n",
    "lista1 = [1, 2, 3, 4, 5, 6, 7, 8, 9, 10, 11, 12, 13, 14, 14, 15, 15, ]\n",
    "lista2 = [37, 2, 3, 21, 5, 19, 7, 7, 9, 10, 11, 12, 13, 14, 14, 15, 15, ]\n",
    "intersec = intersec_listas(lista1, lista2)\n",
    "print(intersec)"
   ],
   "id": "b5ceb7a7c9a09e85",
   "outputs": [
    {
     "name": "stdout",
     "output_type": "stream",
     "text": [
      "{2, 3, 5, 7, 9, 10, 11, 12, 13, 14, 15}\n"
     ]
    }
   ],
   "execution_count": 2
  },
  {
   "metadata": {},
   "cell_type": "markdown",
   "source": [
    "<h4>5. Funções</h4>\n",
    "Crie uma função que receba uma lista de números e retorne o maior número e sua posição na lista."
   ],
   "id": "429b7f6d0c8b4f6c"
  },
  {
   "metadata": {
    "ExecuteTime": {
     "end_time": "2024-10-08T13:27:42.790412Z",
     "start_time": "2024-10-08T13:27:42.785084Z"
    }
   },
   "cell_type": "code",
   "source": [
    "# Passo a passo\n",
    "    # 1. Criar uma função que recebe uma lista\n",
    "    # 2. Achar o maior valor da lista\n",
    "    # 3. Achar o indice de posição do maior valor\n",
    "    # 4. Retornar o maior valor E o indice na mesma função\n",
    "\n",
    "def busca_max(lista):\n",
    "    maximo = max(lista)\n",
    "    posicao = lista.index(maximo)\n",
    "    return maximo, posicao\n",
    "\n",
    "lista = [1, 2, 3, 49, 5, 6, 7, 8, 9, 49, 11, 12, 13, 14, 14, 15, 15, 22]\n",
    "print(busca_max(lista))"
   ],
   "id": "4afb4ab03e4b48c7",
   "outputs": [
    {
     "name": "stdout",
     "output_type": "stream",
     "text": [
      "(49, 3)\n"
     ]
    }
   ],
   "execution_count": 5
  }
 ],
 "metadata": {
  "kernelspec": {
   "display_name": "Python 3",
   "language": "python",
   "name": "python3"
  },
  "language_info": {
   "codemirror_mode": {
    "name": "ipython",
    "version": 2
   },
   "file_extension": ".py",
   "mimetype": "text/x-python",
   "name": "python",
   "nbconvert_exporter": "python",
   "pygments_lexer": "ipython2",
   "version": "2.7.6"
  }
 },
 "nbformat": 4,
 "nbformat_minor": 5
}
