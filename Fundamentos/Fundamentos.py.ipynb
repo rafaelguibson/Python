{
 "cells": [
  {
   "metadata": {},
   "cell_type": "markdown",
   "source": [
    "### <center> Fundamentos Python </center>\n",
    "#### Conceitos Basicos:\n",
    "   1. **Variaveis**: São locais de memoria usadas para armazenar dados. Em python, você não precisa especificar o tipo da variavel, pois Python é uma linguagem com tipagem dinamica."
   ],
   "id": "318ed83ed3edd6b0"
  },
  {
   "metadata": {
    "collapsed": true,
    "ExecuteTime": {
     "end_time": "2024-09-25T20:17:35.265590Z",
     "start_time": "2024-09-25T20:17:35.262876Z"
    }
   },
   "cell_type": "code",
   "source": [
    "nome = \"Rafael\"\n",
    "idade = 31\n",
    "altura = 1.70\n"
   ],
   "id": "initial_id",
   "outputs": [],
   "execution_count": 7
  },
  {
   "metadata": {},
   "cell_type": "markdown",
   "source": [
    "2. **Tipos de dados:**\n",
    "   - int: numeros inteiros. (ex: 1, 2, 100, 777)\n",
    "   - float: numeros decimais. (ex: 1.14, 7.15)\n",
    "   - string: vetor de caracteres, texto. (ex: \\\"Olá, mundo!\\\")\n",
    "<hr>\n",
    "3. **Operadores:**\n",
    "    - Operadores matematicos: **+ - \\* /**\n",
    "    - Comparacao: **==, !=, >, <, <=, >=**\n",
    "    - Logicos: ** and, or, not**\n",
    " <hr>       \n",
    "4. **Condicionais:** Usados para tomada de decisão e desvio do fluxo de execução do codigo.\n",
    "    - **if/else:** Executa uma determinada ação se (if) uma dada condição for verdadeira, ou não (else).\n",
    "    - **match/case:** Executa um desvio de acordo com um numero limitado de opcoes."
   ],
   "id": "b297b8dfc8ac8053"
  },
  {
   "metadata": {
    "ExecuteTime": {
     "end_time": "2024-09-25T20:17:38.343520Z",
     "start_time": "2024-09-25T20:17:38.332573Z"
    }
   },
   "cell_type": "code",
   "source": [
    "if idade >= 18:\n",
    "    print(\"Maior de idade.\")\n",
    "else:\n",
    "    print(\"Menor de idade.\")\n",
    "    \n",
    "dia_semana = 3\n",
    "match dia_semana:\n",
    "    case 1:\n",
    "        print(\"Segunda-feira\")\n",
    "    case 2:\n",
    "        print(\"Terca-feira\")\n",
    "    case 3:\n",
    "        print(\"Quarta-feira\")\n",
    "    case 4:\n",
    "        print(\"Quinta-feira\")\n",
    "    case 5:\n",
    "        print(\"Sexta-feira\")\n",
    "    case 6:\n",
    "        print(\"Sabado\")\n",
    "    case 7:\n",
    "        print(\"Domingo\")"
   ],
   "id": "9e3ee56d837403db",
   "outputs": [
    {
     "name": "stdout",
     "output_type": "stream",
     "text": [
      "Maior de idade.\n",
      "Quarta-feira\n"
     ]
    }
   ],
   "execution_count": 8
  },
  {
   "metadata": {},
   "cell_type": "markdown",
   "source": [
    "5. **Estrutura de repeticao(loops):** Usados para repetir uma acao diversas vezes.\n",
    "    - **for:** itera sobre uma sequencia um n numero de vezes, usados em principalmente para vetores, listas, strings...\n",
    "    - **while:** Executa enquanto uma dada condicao for verdadeira. "
   ],
   "id": "48daa88f16bc45f6"
  },
  {
   "metadata": {},
   "cell_type": "code",
   "source": [
    "for i in range(5):\n",
    "    print(i)\n",
    "\n",
    "contador = 0\n",
    "while contador < 5:\n",
    "    print(contador)\n",
    "    contador += 1\n"
   ],
   "id": "87303416bf46eab3",
   "outputs": [],
   "execution_count": null
  },
  {
   "metadata": {},
   "cell_type": "markdown",
   "source": "6. **Vetores:** Vetores são estruturas unidemensionais, capazes de armazenar diversos dados **do mesmo tipo**. No Python a maneira mais simples de criar um vetor é usando uma lista (a seguir). ",
   "id": "c825774cf58be34"
  },
  {
   "metadata": {},
   "cell_type": "code",
   "source": [
    "# Exemplo de vetor usando lista\n",
    "vetor = [1, 2, 3, 4, 5, 6, 7, 8, 9, 10]\n",
    "print(vetor)\n",
    "# O acesso aos alementos do vetor pode ser feito por meio do indice explicito ou uma variavel de iteracao\n",
    "print(vetor[2])\n",
    "# Percorrer um vetor\n",
    "for item in vetor:\n",
    "    print(item)\n",
    "# Alterar o valor de um elemento por meio do indice\n",
    "vetor[1] = 21\n",
    "print(vetor[1])"
   ],
   "id": "a6d1390b0f558a3",
   "outputs": [],
   "execution_count": null
  },
  {
   "metadata": {},
   "cell_type": "markdown",
   "source": "7. **Matrizes:** Uma **matriz** é uma estrutura de dados bidimensional que funciona de forma semelhando aos vetores, podendo armazenar diversos elementos do mesmo tipo e tendo acesso por meio de indices, entretanto neste caso as matrizes possuem dois indicies que indicam a posicao da linha e da coluna do vetor.",
   "id": "fe79dc1e8929d923"
  },
  {
   "metadata": {},
   "cell_type": "code",
   "source": [
    "## Exemplo de uma matriz bidimensional\n",
    "matriz = [\n",
    "    [ 1, 2, 3 ],\n",
    "    [ 4, 5, 6 ],\n",
    "    [ 7, 8, 9 ]\n",
    "]\n",
    "# O acesso aos elementos de uma matriz bidimensional pode ser realizado pelos indices de linha e coluna.\n",
    "print(matriz[1][2])\n",
    "# Percorrer uma matriz\n",
    "for linha in matriz:\n",
    "    for elemento in linha:\n",
    "        print(elemento, end=' ')\n",
    "    print()\n",
    "# Alterar elementos: Assim como em vetores, você pode modificar elementos de uma matriz.\n",
    "matriz[1][1] = 17\n",
    "print(matriz[1][1])"
   ],
   "id": "967701fdf1aff697",
   "outputs": [],
   "execution_count": null
  },
  {
   "metadata": {},
   "cell_type": "markdown",
   "source": "8. Embora listas em Python funcionem bem para vetores e matrizes simples, para operacoes mais complexas, como calculos matemáticos, o uso da biblioteca **NumPy** é altamente recomendado, pois ela é mais robusta e otimizada para tais fins.",
   "id": "4aa96d53ad316e51"
  },
  {
   "metadata": {},
   "cell_type": "code",
   "source": [
    "import numpy as np\n",
    "# Exemplo de vetor usando o numpy\n",
    "vetor = np.array([1, 2, 3, 4, 5, 6, 7, 8, 9, 10])\n",
    "print(vetor)"
   ],
   "id": "28052292b78cbe8b",
   "outputs": [],
   "execution_count": null
  },
  {
   "metadata": {},
   "cell_type": "code",
   "source": [
    "import numpy as np\n",
    "# Exemplo de matriz usando numpy\n",
    "matriz = np.array([[1, 2, 3],\n",
    "                   [4, 5, 6], \n",
    "                   [7, 8, 9]])\n",
    "print(matriz)"
   ],
   "id": "e72840ac43bcd92b",
   "outputs": [],
   "execution_count": null
  },
  {
   "metadata": {},
   "cell_type": "markdown",
   "source": "Com numpy, é possivel realizar operacoes matematicas em vetores e matrizes de forma muito mais eficiente, como soma, multiplicacao, transposicao, etc.",
   "id": "d03416a788761d1a"
  },
  {
   "metadata": {},
   "cell_type": "code",
   "source": [
    "import numpy as np\n",
    "# Soma de matrizes usando o numpy\n",
    "matriz1 = np.array([[1, 2],[3 ,4]])\n",
    "matriz2 = np.array([[5, 6],[7,8]])\n",
    "soma_matrizes = matriz1 + matriz2\n",
    "print(soma_matrizes)\n",
    "print()\n",
    "# Multiplicacao de matrizes usando numpy\n",
    "produto = np.dot(matriz1, matriz2)\n",
    "print(produto)"
   ],
   "id": "e1a7a68ebd68e43e",
   "outputs": [],
   "execution_count": null
  },
  {
   "metadata": {},
   "cell_type": "markdown",
   "source": [
    "#### Colecoes: Listas, Dicionarios, Tuplas, Conjuntos\n",
    "\n",
    "1. **Listas:** Uma lista é uma colecao ordenada e mutavel (seus valores podem ser alteradores). Permite armazenar itens de tipos diferentes (numeros, strings, objetos, etc), sao bastante flexiveis e podem ser modificadas a qualquer momentos.\n",
    "    - **Operacoes:** adicionar, alterar, remover. \n",
    "    - **Definidor:** [ ]"
   ],
   "id": "aab6d8004e3b1e2b"
  },
  {
   "metadata": {},
   "cell_type": "code",
   "source": [
    "# Exemplo de lista em Python\n",
    "frutas = [\"maçã\", \"laranja\", \"abacate\", \"banana\"]\n",
    "print(frutas)\n",
    "# Acesso por indice de elemento\n",
    "print(frutas[0])\n",
    "# Adicionar um elemento a uma lista\n",
    "frutas.append(\"mamão\")\n",
    "# Remover elemento de uma lista\n",
    "frutas.remove(\"maçã\")\n",
    "print(frutas)"
   ],
   "id": "7021795fff4605d8",
   "outputs": [],
   "execution_count": null
  },
  {
   "metadata": {},
   "cell_type": "markdown",
   "source": [
    "2. **Tuplas:** Uma tupla é similar a uma lista, mas é imutável, ou seja uma vez declarada com seus valores ela não poderá ser alterada, e portanto, não permite operacoes de adicionar, alterar ou remover. Sua melhor aplicacao é quando se quer garantir que um conjunto de dados nao seja modificado.\n",
    "    - **Definidor:** ( )"
   ],
   "id": "c34de98e36cb8226"
  },
  {
   "metadata": {},
   "cell_type": "code",
   "source": [
    "coordenadas = ( -10.2344, 83.456 )\n",
    "print(coordenadas)\n",
    "# Acesso por meio de indice ao elemento da tupla\n",
    "print(coordenadas[1])"
   ],
   "id": "39e15db49c6b38c2",
   "outputs": [],
   "execution_count": null
  },
  {
   "metadata": {},
   "cell_type": "markdown",
   "source": [
    "3. **Dicionarios:** O dicionario é uma estrutura do tipo chave-valor , aonde o acesso dos elementos é feito com a chave ao inves do indice para obter o valor associado a aquela chave.\n",
    "    - **Definidor:** { \"chave\": valor }"
   ],
   "id": "64896107c6525a1f"
  },
  {
   "metadata": {},
   "cell_type": "code",
   "source": [
    "aluno = { \"nome\": \"Rafael\", \"idade\": 31, \"altura\": 1.70, \"nota\": 9.7 }\n",
    "# Acesso ao valor da nota por meio da chave\n",
    "print(aluno[\"nota\"]) \n",
    "# Adicionando uma chave-valor a estrutura\n",
    "aluno[\"curso\"] = \"Sistemas de informacao\"\n",
    "print(aluno[\"curso\"])\n",
    "# Removendo uma chave\n",
    "del aluno[\"altura\"]\n",
    "print(aluno)"
   ],
   "id": "f17f0f1112f012c6",
   "outputs": [],
   "execution_count": null
  },
  {
   "metadata": {},
   "cell_type": "markdown",
   "source": [
    "4. **Conjuntos (sets):** É uma colecao **nao ordenada** de elementos **unicos** . Isso significa que dentro de um conjunto não existem elementos repetidos, caso um elemento ja exista no conjunto a insercao daquele elemento repetido é simplemente descartada. É uma estrutura eficiente para verificar se um item esta presente e eleminar duplicatas.\n",
    "    - **Definidor:** { }"
   ],
   "id": "b7832dac1e83bce3"
  },
  {
   "metadata": {},
   "cell_type": "code",
   "source": [
    "pares = { 2, 4, 6, 8, 0}\n",
    "impares = { 1, 3, 5, 7, 9 }\n",
    "# Operacao de uniao de conjuntos\n",
    "uniao = pares | impares\n",
    "interseccao = pares & impares\n",
    "print(uniao)\n",
    "print(interseccao)"
   ],
   "id": "23adbcce78531599",
   "outputs": [],
   "execution_count": null
  },
  {
   "metadata": {},
   "cell_type": "markdown",
   "source": [
    "#### Resumo das diferencas:\n",
    "<hr>\n",
    "    <strong>Lista:</strong> Ordenada, mutavel, permite duplicatas.<br>\n",
    "    <strong>Tupla:</strong> Ordenada, imutavel, permite duplicatas.<br>\n",
    "    <strong>Dicionario:</strong> Colecoes de pares chave-valor, mutavel, acesso via chave.<br>\n",
    "    <strong>Conjunto:</strong> Nao ordenado, nao permite duplicatas, otimo para operacoes matematicas.<br>"
   ],
   "id": "2c60715f34baa641"
  },
  {
   "metadata": {},
   "cell_type": "markdown",
   "source": [
    "#### Funcoes: \n",
    "As funcoes sao blocos de codigos reutilizaveis que executam uma tarefa especifica. Elas sao essenciais para organizar, modularizar e evitar repeticao de codigo, facilitando a manutencao e legibilidade.\n",
    "\n",
    "##### Conceitos fundamentais:\n",
    "\n",
    "1. <strong>Definir uma funcao:</strong> Para definir uma funcao em Python, utilizamos a palavra-chave <strong>def</strong>, seguida pelo nome da funcao, parenteses (que podem ou nao conter parametros) e dois pontos para definir o inicio da funcao."
   ],
   "id": "5f3aeb7b62d12eac"
  },
  {
   "metadata": {},
   "cell_type": "code",
   "source": [
    "def funcao_exemplo():\n",
    "    # Codigo a ser executado pela funcao\n",
    "    pass"
   ],
   "id": "78db32b83cba663",
   "outputs": [],
   "execution_count": null
  },
  {
   "metadata": {},
   "cell_type": "markdown",
   "source": "2. <strong>Chamada:</strong> Para chamar a funcao basta apenas \\\"invocar\\\" seu nome seguido dos parentes e caso haja, dos parametros dentro dos parenteses.",
   "id": "3adaa8c18e0a0359"
  },
  {
   "metadata": {},
   "cell_type": "code",
   "source": [
    "# Chamar uma funcao em Python\n",
    "funcao_exemplo()"
   ],
   "id": "b8429e8cbd5c1cb4",
   "outputs": [],
   "execution_count": null
  },
  {
   "metadata": {},
   "cell_type": "markdown",
   "source": "3. <strong>Parametros e argumentos:</strong> As funcoes podem receber dados de entrada atraves de parametros, que sao variaveis definidas entre parenteses na declaracao da funcao. Os <strong>argumentos ou parametros</strong> são valores reais que voce passa ao \\\"invocar\\\" a funcao.",
   "id": "f44a6da04ef4344f"
  },
  {
   "metadata": {
    "ExecuteTime": {
     "end_time": "2024-09-25T13:47:04.971106Z",
     "start_time": "2024-09-25T13:47:04.964607Z"
    }
   },
   "cell_type": "code",
   "source": [
    "# Exemplo de funcao com parametro\n",
    "def mensagem(texto):\n",
    "    print(texto)\n",
    "mensagem(\"Hello\")"
   ],
   "id": "507631532c834d2b",
   "outputs": [
    {
     "name": "stdout",
     "output_type": "stream",
     "text": [
      "Hello\n"
     ]
    }
   ],
   "execution_count": 1
  },
  {
   "metadata": {},
   "cell_type": "markdown",
   "source": "4. <strong>Valor de retorno:<strong> Uma funcao pode devolver um valor usando a palavra chave <strong>return</strong>. O valor retornado pode ser armazenado em uma variavel.",
   "id": "7010e1727d0bcd90"
  },
  {
   "metadata": {
    "ExecuteTime": {
     "end_time": "2024-09-25T13:49:33.800977Z",
     "start_time": "2024-09-25T13:49:33.797964Z"
    }
   },
   "cell_type": "code",
   "source": [
    "# Declaracao de uma funcao que recebe dois parametros\n",
    "def soma(n1, n2):\n",
    "    return n1 + n2\n",
    "# Passagem do retorno da funcao para uma variavel\n",
    "resultado = soma(1, 2)\n",
    "print(resultado)"
   ],
   "id": "a4df4bc28a6f4078",
   "outputs": [
    {
     "name": "stdout",
     "output_type": "stream",
     "text": [
      "3\n"
     ]
    }
   ],
   "execution_count": 2
  },
  {
   "metadata": {},
   "cell_type": "markdown",
   "source": "5.<strong>Funcoes com parametro padrao:</strong> E possivel definir valores padrao para os parameros de uma funcao, tornando-os opcionais na chamada.",
   "id": "42eeceac074b50be"
  },
  {
   "metadata": {
    "ExecuteTime": {
     "end_time": "2024-09-25T13:53:30.333579Z",
     "start_time": "2024-09-25T13:53:30.329342Z"
    }
   },
   "cell_type": "code",
   "source": [
    "# Funcao com parametro com valor padrao\n",
    "def mensagem(texto = \"Mengagem padrao da funcao\"):\n",
    "    print(texto)\n",
    "\n",
    "# Chamada da funcao usando o valor padrao\n",
    "mensagem()\n",
    "# Chamada da funcao sobrescrevendo o valor padrao\n",
    "mensagem(\"Minha mensagem sobrescrita\")"
   ],
   "id": "851632e7301cd316",
   "outputs": [
    {
     "name": "stdout",
     "output_type": "stream",
     "text": [
      "Mengagem padrao da funcao\n",
      "Minha mensagem sobrescrita\n"
     ]
    }
   ],
   "execution_count": 4
  },
  {
   "metadata": {},
   "cell_type": "markdown",
   "source": [
    "6.<strong>Funcoes com varios argumentos (\\*args e \\*\\*kwargs):</strong><br>\n",
    "<ul>\n",
    "    <li><strong>*args:</strong> Permite passar um numero variavel de argumentos posicionais para uma funcao.<br></li>\n",
    "    <li><strong>**kwargs:</strong> Permite passar um numero variavel de argumentos nomeados.</li>\n",
    " </ul>"
   ],
   "id": "f72cd8e8a4b577f6"
  },
  {
   "metadata": {
    "ExecuteTime": {
     "end_time": "2024-09-25T16:11:55.297850Z",
     "start_time": "2024-09-25T16:11:55.293763Z"
    }
   },
   "cell_type": "code",
   "source": [
    "# Exemplo com *args\n",
    "def soma_varios(*args):\n",
    "    return sum(args)\n",
    "\n",
    "print(soma_varios(1, 2, 3, 4, 5, 6, 7, 8, 9, 10))\n",
    "\n",
    "# Exemplo com **kwargs\n",
    "def imprimir_informacao(**kwargs):\n",
    "    for key, value in kwargs.items():\n",
    "        print(f\"{key}: {value}\")\n",
    "\n",
    "print(imprimir_informacao(nome=\"Rafael\", idade=31, altura=1.70, nota=9.7))"
   ],
   "id": "f66ea0a405c6c9f8",
   "outputs": [
    {
     "name": "stdout",
     "output_type": "stream",
     "text": [
      "55\n",
      "nome: Rafael\n",
      "idade: 31\n",
      "altura: 1.7\n",
      "nota: 9.7\n",
      "None\n"
     ]
    }
   ],
   "execution_count": 5
  },
  {
   "metadata": {},
   "cell_type": "markdown",
   "source": [
    "<h4>Conceitos avancados de funcoes</h4>\n",
    "    1. <strong>Funcoes lambda:</strong> São funcoes anonimas que podem ser criadas rapidamente com a palavra chave <strong>lambda</strong>. Elas sao uteis para operacoes simples e quando queremos definir funcoes sem usar def."
   ],
   "id": "f40c2d76bba81e01"
  },
  {
   "metadata": {
    "ExecuteTime": {
     "end_time": "2024-09-26T12:23:06.961348Z",
     "start_time": "2024-09-26T12:23:06.946862Z"
    }
   },
   "cell_type": "code",
   "source": [
    "# Declaracao de uma funcao lambda\n",
    "soma = lambda a, b: a+ b\n",
    "print(soma(1, 2))"
   ],
   "id": "718357794184385a",
   "outputs": [
    {
     "name": "stdout",
     "output_type": "stream",
     "text": [
      "3\n"
     ]
    }
   ],
   "execution_count": 1
  },
  {
   "metadata": {},
   "cell_type": "markdown",
   "source": "2. <strong>Funcoes como objetos:</strong> Em Python, as funcoes pode ser tratadas como objetos, o que permite que elas sejam passadas como argumento para outras funcoes ou armazena-las em outras variaveis.",
   "id": "93c3f19185affd10"
  },
  {
   "metadata": {
    "ExecuteTime": {
     "end_time": "2024-09-26T12:25:39.023901Z",
     "start_time": "2024-09-26T12:25:39.020899Z"
    }
   },
   "cell_type": "code",
   "source": [
    "def cumprimentar():\n",
    "    print(\"Hi !\")\n",
    "\n",
    "func = cumprimentar\n",
    "func()"
   ],
   "id": "acba01f9cd6eebeb",
   "outputs": [
    {
     "name": "stdout",
     "output_type": "stream",
     "text": [
      "Hi !\n"
     ]
    }
   ],
   "execution_count": 2
  },
  {
   "metadata": {},
   "cell_type": "markdown",
   "source": "3.<strong>Recursividade:</strong> Uma funcao que chama a si mesma para resolver problemas quebrando ele em parter menores (divide and conquer)",
   "id": "2518c125c7ab0f16"
  },
  {
   "metadata": {
    "ExecuteTime": {
     "end_time": "2024-09-26T12:29:47.782337Z",
     "start_time": "2024-09-26T12:29:47.778708Z"
    }
   },
   "cell_type": "code",
   "source": [
    "def fatorial(n):\n",
    "    if n == 1:\n",
    "        return 1\n",
    "    else:\n",
    "        return n * fatorial(n-1)\n",
    "\n",
    "print(fatorial(5))"
   ],
   "id": "9a4be1cd7666c974",
   "outputs": [
    {
     "name": "stdout",
     "output_type": "stream",
     "text": [
      "120\n"
     ]
    }
   ],
   "execution_count": 6
  },
  {
   "metadata": {},
   "cell_type": "markdown",
   "source": [
    "<h4>Resumo:</h4>\n",
    "<ul>\n",
    "    <li><strong>Funcoes:</strong> Funcoes sao blocos de codigo que executam uma tarefa especifica.</li>\n",
    "    <li>Elas podem receber <strong>parametros</strong> e retornar <strong>valores</strong></li>\n",
    "    <li>O Pyhton suporta <strong>funcoes com parametro padrao, funcoes com multiplos argumentos (\\*\\*args, \\*\\*kwargs) e funcoes anonimas</strong></li>\n",
    "    <li>Funcoes pode ser <strong>recursivas</strong> e tambem podem ser tratadas como <strong>objetos</strong>.\n",
    "</ul>\n",
    "<hr> \n",
    "Funcoes ajudam a modularizar o codigo, torna-lo mais organizado, reutilizavel e facil de manter."
   ],
   "id": "e1111827eb7fc5e7"
  }
 ],
 "metadata": {
  "kernelspec": {
   "display_name": "Python 3",
   "language": "python",
   "name": "python3"
  },
  "language_info": {
   "codemirror_mode": {
    "name": "ipython",
    "version": 2
   },
   "file_extension": ".py",
   "mimetype": "text/x-python",
   "name": "python",
   "nbconvert_exporter": "python",
   "pygments_lexer": "ipython2",
   "version": "2.7.6"
  }
 },
 "nbformat": 4,
 "nbformat_minor": 5
}
