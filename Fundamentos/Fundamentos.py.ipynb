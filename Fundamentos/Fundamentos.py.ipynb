{
 "cells": [
  {
   "metadata": {},
   "cell_type": "markdown",
   "source": [
    "### <center> Fundamentos Python </center>\n",
    "#### Conceitos Basicos:\n",
    "   1. **Variaveis**: São locais de memoria usadas para armazenar dados. Em python, você não precisa especificar o tipo da variavel, pois Python é uma linguagem com tipagem dinamica."
   ],
   "id": "318ed83ed3edd6b0"
  },
  {
   "metadata": {
    "collapsed": true
   },
   "cell_type": "code",
   "outputs": [],
   "execution_count": null,
   "source": [
    "nome = \"Rafael\"\n",
    "idade = 31\n",
    "altura = 1.70\n"
   ],
   "id": "initial_id"
  },
  {
   "metadata": {},
   "cell_type": "markdown",
   "source": [
    "2. **Tipos de dados:**\n",
    "   - int: numeros inteiros. (ex: 1, 2, 100, 777)\n",
    "   - float: numeros decimais. (ex: 1.14, 7.15)\n",
    "   - string: vetor de caracteres, texto. (ex: \\\"Olá, mundo!\\\")\n",
    "<hr>\n",
    "3. **Operadores:**\n",
    "    - Operadores matematicos: **+ - \\* /**\n",
    "    - Comparacao: **==, !=, >, <, <=, >=**\n",
    "    - Logicos: ** and, or, not**\n",
    " <hr>       \n",
    "4. **Condicionais:** Usados para tomada de decisão e desvio do fluxo de execução do codigo.\n",
    "    - **if/else:** Executa uma determinada ação se (if) uma dada condição for verdadeira, ou não (else).\n",
    "    - **match/case:** Executa um desvio de acordo com um numero limitado de opcoes."
   ],
   "id": "b297b8dfc8ac8053"
  },
  {
   "metadata": {},
   "cell_type": "code",
   "outputs": [],
   "execution_count": null,
   "source": [
    "if idade >= 18:\n",
    "    print(\"Maior de idade.\")\n",
    "else:\n",
    "    print(\"Menor de idade.\")\n",
    "    \n",
    "dia_semana = 3\n",
    "match dia_semana:\n",
    "    case 1:\n",
    "        print(\"Segunda-feira\")\n",
    "    case 2:\n",
    "        print(\"Terca-feira\")\n",
    "    case 3:\n",
    "        print(\"Quarta-feira\")\n",
    "    case 4:\n",
    "        print(\"Quinta-feira\")\n",
    "    case 5:\n",
    "        print(\"Sexta-feira\")\n",
    "    case 6:\n",
    "        print(\"Sabado\")\n",
    "    case 7:\n",
    "        print(\"Domingo\")"
   ],
   "id": "9e3ee56d837403db"
  },
  {
   "metadata": {},
   "cell_type": "markdown",
   "source": [
    "5. **Estrutura de repeticao(loops):** Usados para repetir uma acao diversas vezes.\n",
    "    - **for:** itera sobre uma sequencia um n numero de vezes, usados em principalmente para vetores, listas, strings...\n",
    "    - **while:** Executa enquanto uma dada condicao for verdadeira. "
   ],
   "id": "48daa88f16bc45f6"
  },
  {
   "metadata": {},
   "cell_type": "code",
   "outputs": [],
   "execution_count": null,
   "source": [
    "for i in range(5):\n",
    "    print(i)\n",
    "\n",
    "contador = 0\n",
    "while contador < 5:\n",
    "    print(contador)\n",
    "    contador += 1\n"
   ],
   "id": "87303416bf46eab3"
  },
  {
   "metadata": {},
   "cell_type": "markdown",
   "source": "6. **Vetores:** Vetores são estruturas unidemensionais, capazes de armazenar diversos dados **do mesmo tipo**. No Python a maneira mais simples de criar um vetor é usando uma lista (a seguir). ",
   "id": "c825774cf58be34"
  },
  {
   "metadata": {
    "ExecuteTime": {
     "end_time": "2024-09-24T19:08:44.776737Z",
     "start_time": "2024-09-24T19:08:44.766384Z"
    }
   },
   "cell_type": "code",
   "source": [
    "# Exemplo de vetor usando lista\n",
    "vetor = [1, 2, 3, 4, 5, 6, 7, 8, 9, 10]\n",
    "print(vetor)\n",
    "# O acesso aos alementos do vetor pode ser feito por meio do indice explicito ou uma variavel de iteracao\n",
    "print(vetor[2])\n",
    "# Percorrer um vetor\n",
    "for item in vetor:\n",
    "    print(item)\n",
    "# Alterar o valor de um elemento por meio do indice\n",
    "vetor[1] = 21\n",
    "print(vetor[1])"
   ],
   "id": "a6d1390b0f558a3",
   "outputs": [
    {
     "name": "stdout",
     "output_type": "stream",
     "text": [
      "[1, 2, 3, 4, 5, 6, 7, 8, 9, 10]\n",
      "3\n",
      "1\n",
      "2\n",
      "3\n",
      "4\n",
      "5\n",
      "6\n",
      "7\n",
      "8\n",
      "9\n",
      "10\n",
      "21\n"
     ]
    }
   ],
   "execution_count": 1
  },
  {
   "metadata": {},
   "cell_type": "markdown",
   "source": "7. **Matrizes:** Uma **matriz** é uma estrutura de dados bidimensional que funciona de forma semelhando aos vetores, podendo armazenar diversos elementos do mesmo tipo e tendo acesso por meio de indices, entretanto neste caso as matrizes possuem dois indicies que indicam a posicao da linha e da coluna do vetor.",
   "id": "fe79dc1e8929d923"
  },
  {
   "metadata": {
    "ExecuteTime": {
     "end_time": "2024-09-24T19:17:05.404199Z",
     "start_time": "2024-09-24T19:17:05.400654Z"
    }
   },
   "cell_type": "code",
   "source": [
    "## Exemplo de uma matriz bidimensional\n",
    "matriz = [\n",
    "    [ 1, 2, 3 ],\n",
    "    [ 4, 5, 6 ],\n",
    "    [ 7, 8, 9 ]\n",
    "]\n",
    "# O acesso aos elementos de uma matriz bidimensional pode ser realizado pelos indices de linha e coluna.\n",
    "print(matriz[1][2])\n",
    "# Percorrer uma matriz\n",
    "for linha in matriz:\n",
    "    for elemento in linha:\n",
    "        print(elemento, end=' ')\n",
    "    print()\n",
    "# Alterar elementos: Assim como em vetores, você pode modificar elementos de uma matriz.\n",
    "matriz[1][1] = 17\n",
    "print(matriz[1][1])"
   ],
   "id": "967701fdf1aff697",
   "outputs": [
    {
     "name": "stdout",
     "output_type": "stream",
     "text": [
      "6\n",
      "1 2 3 \n",
      "4 5 6 \n",
      "7 8 9 \n",
      "17\n"
     ]
    }
   ],
   "execution_count": 4
  },
  {
   "metadata": {},
   "cell_type": "markdown",
   "source": "8. Embora listas em Python funcionem bem para vetores e matrizes simples, para operacoes mais complexas, como calculos matemáticos, o uso da biblioteca **NumPy** é altamente recomendado, pois ela é mais robusta e otimizada para tais fins.",
   "id": "4aa96d53ad316e51"
  },
  {
   "metadata": {
    "ExecuteTime": {
     "end_time": "2024-09-24T19:20:26.815583Z",
     "start_time": "2024-09-24T19:20:26.698567Z"
    }
   },
   "cell_type": "code",
   "source": [
    "import numpy as np\n",
    "# Exemplo de vetor usando o numpy\n",
    "vetor = np.array([1, 2, 3, 4, 5, 6, 7, 8, 9, 10])\n",
    "print(vetor)"
   ],
   "id": "28052292b78cbe8b",
   "outputs": [
    {
     "name": "stdout",
     "output_type": "stream",
     "text": [
      "[ 1  2  3  4  5  6  7  8  9 10]\n"
     ]
    }
   ],
   "execution_count": 5
  },
  {
   "metadata": {},
   "cell_type": "code",
   "outputs": [],
   "execution_count": null,
   "source": [
    "import numpy as np\n",
    "# Exemplo de matriz usando numpy\n",
    "matriz = np.array([[1, 2, 3],\n",
    "                   [4, 5, 6], \n",
    "                   [7, 8, 9]])\n",
    "print(matriz)"
   ],
   "id": "e72840ac43bcd92b"
  },
  {
   "metadata": {},
   "cell_type": "markdown",
   "source": "Com numpy, é possivel realizar operacoes matematicas em vetores e matrizes de forma muito mais eficiente, como soma, multiplicacao, transposicao, etc.",
   "id": "d03416a788761d1a"
  },
  {
   "metadata": {
    "ExecuteTime": {
     "end_time": "2024-09-24T19:27:49.039134Z",
     "start_time": "2024-09-24T19:27:49.035645Z"
    }
   },
   "cell_type": "code",
   "source": [
    "import numpy as np\n",
    "# Soma de matrizes usando o numpy\n",
    "matriz1 = np.array([[1, 2],[3 ,4]])\n",
    "matriz2 = np.array([[5, 6],[7,8]])\n",
    "soma_matrizes = matriz1 + matriz2\n",
    "print(soma_matrizes)\n",
    "print()\n",
    "# Multiplicacao de matrizes usando numpy\n",
    "produto = np.dot(matriz1, matriz2)\n",
    "print(produto)"
   ],
   "id": "e1a7a68ebd68e43e",
   "outputs": [
    {
     "name": "stdout",
     "output_type": "stream",
     "text": [
      "[[ 6  8]\n",
      " [10 12]]\n",
      "\n",
      "[[19 22]\n",
      " [43 50]]\n"
     ]
    }
   ],
   "execution_count": 8
  },
  {
   "metadata": {},
   "cell_type": "markdown",
   "source": [
    "#### Colecoes: Listas, Dicionarios, Tuplas, Conjuntos\n",
    "\n",
    "1. **Listas:** Uma lista é uma colecao ordenada e mutavel (seus valores podem ser alteradores). Permite armazenar itens de tipos diferentes (numeros, strings, objetos, etc), sao bastante flexiveis e podem ser modificadas a qualquer momentos.\n",
    "    - **Operacoes:** adicionar, alterar, remover. \n",
    "    - **Definidor:** [ ]"
   ],
   "id": "aab6d8004e3b1e2b"
  },
  {
   "metadata": {},
   "cell_type": "code",
   "outputs": [],
   "execution_count": null,
   "source": [
    "# Exemplo de lista em Python\n",
    "frutas = [\"maçã\", \"laranja\", \"abacate\", \"banana\"]\n",
    "print(frutas)\n",
    "# Acesso por indice de elemento\n",
    "print(frutas[0])\n",
    "# Adicionar um elemento a uma lista\n",
    "frutas.append(\"mamão\")\n",
    "# Remover elemento de uma lista\n",
    "frutas.remove(\"maçã\")\n",
    "print(frutas)"
   ],
   "id": "7021795fff4605d8"
  },
  {
   "metadata": {},
   "cell_type": "markdown",
   "source": [
    "2. **Tuplas:** Uma tupla é similar a uma lista, mas é imutável, ou seja uma vez declarada com seus valores ela não poderá ser alterada, e portanto, não permite operacoes de adicionar, alterar ou remover. Sua melhor aplicacao é quando se quer garantir que um conjunto de dados nao seja modificado.\n",
    "    - **Definidor:** ( )"
   ],
   "id": "c34de98e36cb8226"
  },
  {
   "metadata": {
    "ExecuteTime": {
     "end_time": "2024-09-24T20:08:03.798332Z",
     "start_time": "2024-09-24T20:08:03.794765Z"
    }
   },
   "cell_type": "code",
   "source": [
    "coordenadas = ( -10.2344, 83.456 )\n",
    "print(coordenadas)\n",
    "# Acesso por meio de indice ao elemento da tupla\n",
    "print(coordenadas[1])"
   ],
   "id": "39e15db49c6b38c2",
   "outputs": [
    {
     "name": "stdout",
     "output_type": "stream",
     "text": [
      "(-10.2344, 83.456)\n",
      "83.456\n"
     ]
    }
   ],
   "execution_count": 9
  },
  {
   "metadata": {},
   "cell_type": "markdown",
   "source": [
    "3. **Dicionarios:** O dicionario é uma estrutura do tipo chave-valor , aonde o acesso dos elementos é feito com a chave ao inves do indice para obter o valor associado a aquela chave.\n",
    "    - **Definidor:** { \"chave\": valor }"
   ],
   "id": "64896107c6525a1f"
  },
  {
   "metadata": {
    "ExecuteTime": {
     "end_time": "2024-09-24T20:14:19.517980Z",
     "start_time": "2024-09-24T20:14:19.514350Z"
    }
   },
   "cell_type": "code",
   "source": [
    "aluno = { \"nome\": \"Rafael\", \"idade\": 31, \"altura\": 1.70, \"nota\": 9.7 }\n",
    "# Acesso ao valor da nota por meio da chave\n",
    "print(aluno[\"nota\"]) \n",
    "# Adicionando uma chave-valor a estrutura\n",
    "aluno[\"curso\"] = \"Sistemas de informacao\"\n",
    "print(aluno[\"curso\"])\n",
    "# Removendo uma chave\n",
    "del aluno[\"altura\"]\n",
    "print(aluno)"
   ],
   "id": "f17f0f1112f012c6",
   "outputs": [
    {
     "name": "stdout",
     "output_type": "stream",
     "text": [
      "9.7\n",
      "Sistemas de informacao\n",
      "{'nome': 'Rafael', 'idade': 31, 'nota': 9.7, 'curso': 'Sistemas de informacao'}\n"
     ]
    }
   ],
   "execution_count": 10
  },
  {
   "metadata": {},
   "cell_type": "markdown",
   "source": [
    "4. **Conjuntos (sets):** É uma colecao **nao ordenada** de elementos **unicos** . Isso significa que dentro de um conjunto não existem elementos repetidos, caso um elemento ja exista no conjunto a insercao daquele elemento repetido é simplemente descartada. É uma estrutura eficiente para verificar se um item esta presente e eleminar duplicatas.\n",
    "    - **Definidor:** { }"
   ],
   "id": "b7832dac1e83bce3"
  },
  {
   "metadata": {},
   "cell_type": "code",
   "outputs": [],
   "execution_count": null,
   "source": [
    "pares = { 2, 4, 6, 8, 0}\n",
    "impares = { 1, 3, 5, 7, 9 }\n",
    "# Operacao de uniao de conjuntos\n",
    "uniao = pares | impares\n",
    "interseccao = pares & impares\n",
    "print(uniao)\n",
    "print(interseccao)"
   ],
   "id": "23adbcce78531599"
  },
  {
   "metadata": {},
   "cell_type": "markdown",
   "source": [
    "#### Resumo das diferencas:\n",
    "<hr>\n",
    "    <strong>Lista:</strong> Ordenada, mutavel, permite duplicatas.<br>\n",
    "    <strong>Tupla:</strong> Ordenada, imutavel, permite duplicatas.<br>\n",
    "    <strong>Dicionario:</strong> Colecoes de pares chave-valor, mutavel, acesso via chave.<br>\n",
    "    <strong>Conjunto:</strong> Nao ordenado, nao permite duplicatas, otimo para operacoes matematicas.<br>"
   ],
   "id": "2c60715f34baa641"
  },
  {
   "metadata": {},
   "cell_type": "code",
   "outputs": [],
   "source": "",
   "id": "78db32b83cba663",
   "execution_count": null
  },
  {
   "metadata": {},
   "cell_type": "markdown",
   "source": "",
   "id": "4009791c2e768266"
  }
 ],
 "metadata": {
  "kernelspec": {
   "display_name": "Python 3",
   "language": "python",
   "name": "python3"
  },
  "language_info": {
   "codemirror_mode": {
    "name": "ipython",
    "version": 2
   },
   "file_extension": ".py",
   "mimetype": "text/x-python",
   "name": "python",
   "nbconvert_exporter": "python",
   "pygments_lexer": "ipython2",
   "version": "2.7.6"
  }
 },
 "nbformat": 4,
 "nbformat_minor": 5
}
