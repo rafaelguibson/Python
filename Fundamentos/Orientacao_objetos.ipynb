{
 "cells": [
  {
   "metadata": {},
   "cell_type": "markdown",
   "source": [
    "<h4>Orientação a Objetos (OO) em Python</h4>\n",
    "\n",
    "A <strong>Orientação da Objetos</strong> (OO) é um paradigma de programação baseado no conceito de \"objetos\", que podem conter dados (atributos) e funcionalidades (métodos). A principal ideia da OO é modelar componentes do mundo real como objetos e organizar o codigo em torno desses objetos.\n",
    "<br>Em Python, tudo é objeto, e o paradigma de OO é amplamente suportado por meio de <strong>classes e objetos</strong>.\n",
    "\n",
    "<h4>Conceitos Fundamentais</h4>\n",
    "1.<strong>Classe</strong>: \n",
    "        <ul>\n",
    "            <li>Define a estrutura e o comportamento de um objeto.</li>\n",
    "            <li>Funciona como um \"molde\" para criar objetos. Em uma classe, você define <atrong>atributos</strong> (variáveis) e os <strong>métodos</strong> (funções).</li>\n",
    "        </ul>\n",
    "\n",
    "\n"
   ],
   "id": "54d7ca92321db5af"
  },
  {
   "metadata": {
    "ExecuteTime": {
     "end_time": "2024-10-07T12:53:41.048773Z",
     "start_time": "2024-10-07T12:53:41.042780Z"
    }
   },
   "cell_type": "code",
   "source": [
    "# Exemplo de uma classe em Python\n",
    "class Pessoa:\n",
    "    def __init__(self, nome, idade):\n",
    "        self.nome = nome\n",
    "        self.idade = idade\n",
    "        \n",
    "    def falar(self):\n",
    "        print(f\"Oi, eu sou {self.nome} e tenho {self.idade} anos.\")"
   ],
   "id": "ab7d4f996ad50353",
   "outputs": [],
   "execution_count": 2
  },
  {
   "metadata": {},
   "cell_type": "markdown",
   "source": [
    "\n",
    "2.<strong>Objeto</strong>: \n",
    "        <ul>\n",
    "            <li>Instancia de uma classe, contendo atributos e métodos definidos na classe.</li>\n",
    "        </ul>\n"
   ],
   "id": "5d11afe0ad018b1d"
  },
  {
   "metadata": {
    "ExecuteTime": {
     "end_time": "2024-10-07T12:53:44.788643Z",
     "start_time": "2024-10-07T12:53:44.782364Z"
    }
   },
   "cell_type": "code",
   "source": [
    "# Instancia (objeto) da classe Pessoa\n",
    "pessoa = Pessoa(\"Rafael\", 31)\n",
    "pessoa.falar()"
   ],
   "id": "ab3b434bcddf43d0",
   "outputs": [
    {
     "name": "stdout",
     "output_type": "stream",
     "text": [
      "Oi, eu sou Rafael e tenho 31 anos.\n"
     ]
    }
   ],
   "execution_count": 3
  },
  {
   "metadata": {},
   "cell_type": "markdown",
   "source": [
    "3.<strong>Atributos</strong>: \n",
    "    <ul>\n",
    "        <li>São as caracteristicas que definem o estado de um objeto.</li>\n",
    "        <li>Podem ser definidos diretamente na classe ou atribuídos aos objetos no momento da instância.</li>\n",
    "    </ul>"
   ],
   "id": "43f598e494ac6b2c"
  },
  {
   "metadata": {
    "ExecuteTime": {
     "end_time": "2024-10-07T12:57:02.920064Z",
     "start_time": "2024-10-07T12:57:02.915381Z"
    }
   },
   "cell_type": "code",
   "source": [
    "class Carro:\n",
    "    def __init__(self, modelo, cor):\n",
    "        self.modelo = modelo\n",
    "        self.cor = cor"
   ],
   "id": "4a4c1f8f7f4d7c28",
   "outputs": [],
   "execution_count": 5
  },
  {
   "metadata": {},
   "cell_type": "markdown",
   "source": [
    "4.<strong>Métodos</strong>: \n",
    "    <ul>\n",
    "        <li>São funções que definem o comportamento de um objeto.</li>\n",
    "    </ul>"
   ],
   "id": "e276aae5ee9aca1d"
  },
  {
   "metadata": {},
   "cell_type": "code",
   "outputs": [],
   "execution_count": null,
   "source": [
    "# Exemplo de um metodo da classe carro \n",
    "class Carro:\n",
    "    def acelerar(self):\n",
    "        print(\"O carro esta acelerando\")"
   ],
   "id": "6123a274ec26c1fd"
  },
  {
   "metadata": {},
   "cell_type": "markdown",
   "source": [
    "5.<strong>Contrutor</strong>(<code>__init__</code>): \n",
    "    <ul>\n",
    "        <li>É um método especial que é automaticamente camado quando um objeto é criado. Ele é usado para incializar os atributos e comportamentos da classe.</li>\n",
    "    </ul>"
   ],
   "id": "216b34fd87911e2f"
  },
  {
   "metadata": {},
   "cell_type": "code",
   "outputs": [],
   "execution_count": null,
   "source": [
    "# Classe animal com seu metodo construtor\n",
    "class Animal:\n",
    "    def __init__(self, especie):\n",
    "        self.especie = especie"
   ],
   "id": "f1cd328074c496a9"
  },
  {
   "metadata": {},
   "cell_type": "markdown",
   "source": [
    "6.<strong>Encapsulamento</strong>: \n",
    "    <ul>\n",
    "        <li>A prática de esconder detalhes internos de um objeto e permite o acesso a elas apenas através de método específicos. Em Python, isso pode ser feito com <strong>atributos privados</strong>(usando um sublinhado no nome).</li>\n",
    "    </ul>"
   ],
   "id": "5e8101ab7389a247"
  },
  {
   "metadata": {},
   "cell_type": "code",
   "outputs": [],
   "execution_count": null,
   "source": [
    "class ContaBancaria:\n",
    "    def __init__(self, saldo):\n",
    "        self._saldo = saldo # Atributo privado\n",
    "        \n",
    "    def depositar(self, valor):\n",
    "        self._saldo += valor\n",
    "    \n",
    "    def sacar(self, valor):\n",
    "        self._saldo -= valor\n",
    "    \n",
    "    def get_saldo(self):\n",
    "        return self._saldo"
   ],
   "id": "5d27a4e1d83cf3a8"
  },
  {
   "metadata": {},
   "cell_type": "markdown",
   "source": [
    "7.<strong>Herança</strong>: \n",
    "    <ul>\n",
    "        <li>Permite criar uma nova classe baseada em uma classe existente. A nova classe (subclasse) herda atributos e métodos da classe base (superclasse), podendo sobrescreve-los ou adicionar novos comportamentos.</li>\n",
    "    </ul>"
   ],
   "id": "a8857022a876b2d3"
  },
  {
   "metadata": {
    "ExecuteTime": {
     "end_time": "2024-10-07T13:30:28.072005Z",
     "start_time": "2024-10-07T13:30:28.061669Z"
    }
   },
   "cell_type": "code",
   "source": [
    "# Exemplo de Herança entre classe Veiculo e Carro\n",
    "class Veiculo:\n",
    "    def __init__(self, marca):\n",
    "        self.marca = marca\n",
    "    \n",
    "    def dirigir(self):\n",
    "        print(\"O veículo está em movimento.\")\n",
    "        \n",
    "class Carro(Veiculo):\n",
    "    def __init__(self, marca, modelo):\n",
    "        super().__init__(marca)\n",
    "        self.modelo = modelo\n",
    "    \n",
    "    def buzinar(self):\n",
    "        print(\"O carro esta buzinando\")"
   ],
   "id": "423a066b4333514",
   "outputs": [],
   "execution_count": 1
  },
  {
   "metadata": {},
   "cell_type": "markdown",
   "source": [
    "8.<strong>Polimorfismo</strong>: \n",
    "    <ul>\n",
    "        <li>A habilidade de usar um mesmo método em diferentes classes, proporcionando diferentes implementações, dependendo do tipo de objeto.</li>\n",
    "    </ul>"
   ],
   "id": "e7051c34fb7c93ff"
  },
  {
   "metadata": {
    "ExecuteTime": {
     "end_time": "2024-10-07T13:37:29.987442Z",
     "start_time": "2024-10-07T13:37:29.983999Z"
    }
   },
   "cell_type": "code",
   "source": [
    "class Ave:\n",
    "    def emitir_som(self):\n",
    "        print(\"A ave está cantando.\")\n",
    "        \n",
    "class Pato(Ave):\n",
    "    def emitir_som(self):\n",
    "        print(\"O pato está grasnando.\")\n",
    "        \n",
    "class Papagaio(Ave):\n",
    "    def emitir_som(self):\n",
    "        print(\"O papagaio está falando.\")\n",
    "        \n",
    "# Polimosfismo em ação\n",
    "ave1 = Pato()\n",
    "ave2 = Papagaio()\n",
    "\n",
    "ave1.emitir_som()\n",
    "ave2.emitir_som()"
   ],
   "id": "c89b272c236b078",
   "outputs": [
    {
     "name": "stdout",
     "output_type": "stream",
     "text": [
      "O pato está grasnando.\n",
      "O papagaio está falando.\n"
     ]
    }
   ],
   "execution_count": 2
  },
  {
   "metadata": {},
   "cell_type": "markdown",
   "source": [
    "9.<strong>Abstração</strong>: \n",
    "    <ul>\n",
    "        <li>O ato de expor apenas os detalhes essenciais e esconder detalhes de implementação.</li>\n",
    "        <li>Em Python, a abstração é normalmente implementada com a ajuda de <strong>classes abstratas</strong>, que são classes que não podem ser instanciadas diretamente e que possuem métodos abstratos que devem ser implementados pelas subclasses.</li>\n",
    "    </ul>"
   ],
   "id": "b5ec5a2c2450add6"
  },
  {
   "metadata": {
    "ExecuteTime": {
     "end_time": "2024-10-07T13:42:46.159395Z",
     "start_time": "2024-10-07T13:42:46.155929Z"
    }
   },
   "cell_type": "code",
   "source": [
    "# Exemplo com abc\n",
    "from abc import ABC, abstractmethod\n",
    "\n",
    "class Forma(ABC):\n",
    "    @abstractmethod\n",
    "    def calcular_area(self):\n",
    "        pass\n",
    "    \n",
    "class Retangulo(Forma):\n",
    "    def __init__(self, largura, altura):\n",
    "        self.largura = largura\n",
    "        self.altura = altura\n",
    "    \n",
    "    def calcular_area(self):\n",
    "        return self.largura * self.altura"
   ],
   "id": "34a64ab97e870311",
   "outputs": [],
   "execution_count": 3
  },
  {
   "metadata": {},
   "cell_type": "markdown",
   "source": [
    "<h4>Regras e Boas Práticas na Orientação a Objetos</h4>\n",
    "<ol>\n",
    "    <li><strong>Reaproveitamento de Código: </strong>A OO facilita o reaproveitamento de código por meio de herança e polimorfismo.</li>\n",
    "    <li><strong>Manutenção: </strong> Ao encapsular os detalhes internos de uma classe, a manutenção do codigo se torna mais facil e organizada.</li>\n",
    "    <li><strong>Modularidade: </strong>Dividir o código em diferentes classes permite que o sistema seja modular e flexivel.</li>\n",
    "    <li><strong>Segurança: </strong>Através de encapsulamento, é possivel controlar o acesso aos dados e garantir que a manipulação aconteceça de maneira controlada.</li>\n",
    "</ol>\n",
    "\n",
    "<h4>Aplicações da OO no Python</h4>\n",
    "<li>Desenvolvimento de grandes sistemas, como jogos e sistemas de gerenciamento.</li>\n",
    "<li>Criação de APIs, frameworks e bibliotecas com estrutura modular.</li>\n",
    "<li>Implementação de sistemas que precisam ser facilmente escaláveis e expansíveis, como sistemas de comercio eletrônico ou plataforma de serviços.</li>\n"
   ],
   "id": "1f96472c6ababf84"
  },
  {
   "metadata": {},
   "cell_type": "markdown",
   "source": [
    "<h4>Modificadores de acesso</h4>\n",
    "Em Python, o conceito de <strong>modificadores de acesso</strong> é um pouco diferente de outras linguagens de programação como C++ ou Java, onde temos palavras-chave específicas como <code>private</code>, <code>protected</code>, <code>public</code>. Em Python, o controle de acessso é feito por meio de convenção de nomenclatura, e a linguagem utiliza uma abordagem mais flexível, conhecida como \"<strong>consentimento implícito</strong>.\n",
    "\n",
    "<br>\n",
    "<h4>1. Atributos Públicos</h4>\n",
    "Por padrão, todos os atributos e metodos de uma classe são <strong>publicos</strong> em Python, ou seja, eles podem ser acessados de fora da classe. Não Há restrição para bisibilidade de atributos e métodos publicos."
   ],
   "id": "2dd30a60557b3494"
  },
  {
   "metadata": {},
   "cell_type": "code",
   "outputs": [],
   "execution_count": null,
   "source": [
    "class Pessoa:\n",
    "    def __init__(self, nome, idade):\n",
    "        self.nome = nome # Atributo Publico\n",
    "        self.idade = idade # Atributo Publico\n",
    "        \n",
    "# Acessando diretamente os atributos\n",
    "p = Pessoa(\"Rafael\", 31)\n",
    "print(p.nome)\n",
    "print(p.idade)\n",
    "        "
   ],
   "id": "e18c52edbe09c85b"
  },
  {
   "metadata": {},
   "cell_type": "markdown",
   "source": [
    "<h4>2. Atributos \"Protegidos\" (Convenção com sublinhado simples <code>_</code>)</h4>\n",
    "Em python não existe um modificador de acesso explicito para protected (protegido) como em outras linguagens. No entrando, por convençãom o uso do sublinhado (<code>_</code>) antes do nome de um atributo ou método indica que ele <strong>não deve ser acessado diretamente fora da classe ou de suas subclasses</strong>.É uma convenção, não uma restrição, ou seja, ele ainda pode ser acessado, mais indica que o suo deve ser evitado e que o atributo é para \"uso interno\"."
   ],
   "id": "8d16d8460030c8dd"
  },
  {
   "metadata": {
    "ExecuteTime": {
     "end_time": "2024-10-07T18:21:13.070380Z",
     "start_time": "2024-10-07T18:21:12.975951Z"
    }
   },
   "cell_type": "code",
   "source": [
    "class Pessoa:\n",
    "    def __init__(self, nome, idade):\n",
    "        self._nome = nome\n",
    "        self._idade = idade\n",
    "    \n",
    "    def get_nome(self):\n",
    "        return self._nome\n",
    "    \n",
    "# Acessando um atributo protegido\n",
    "p1 = Pessoa(\"Rafael\", 31)\n",
    "print(p1._nome) # é Possivel acessar, mas não é recomendado\n",
    "print(p1.get_nome()) # Forma correta de acessar"
   ],
   "id": "e01d4490f15a273b",
   "outputs": [
    {
     "name": "stdout",
     "output_type": "stream",
     "text": [
      "Rafael\n",
      "Rafael\n"
     ]
    }
   ],
   "execution_count": 4
  },
  {
   "metadata": {},
   "cell_type": "markdown",
   "source": [
    "<h4>3. Atributos Privados (Convenção com dois sublinhados <code>__</code>)</h4>\n",
    "Python permite criar atributos e metodos que são <b>quase privados</b> usando dois sublinhados (<code>__</code>) antes do nome. Isso ativa um mecanismo chamado <b>name mangling</b> (embaralhamento de nome), que altera o nome interno do atributo para incluir o nome da classe. Embora isso dificulte o acesso direto de fora da classe, ele ainda pode ser acessado por meios indiretos. Em Python, <b>atributos privados são mais dificeis de acessar diretamente</b> mas não são completamente inacessiveis como em outras linguagens.\n",
    "\n",
    "<br>O <b>name mangling</b> faz com que um atributo <code>__atributo</code> seja renomeado internamente para <code>_NomeDaClasse__atributo</code>."
   ],
   "id": "d81595c8a94c8356"
  },
  {
   "metadata": {},
   "cell_type": "code",
   "outputs": [],
   "execution_count": null,
   "source": [
    "class Pessoa:\n",
    "    def __init__(self, nome, idade):\n",
    "        self.__nome = nome\n",
    "        self.__idade = idade\n",
    "        \n",
    "    def get_nome(self):\n",
    "        return self.__nome\n",
    "    \n",
    "    def get_idade(self):\n",
    "        return self.__idade\n",
    "\n",
    "# Acessando os atributos privados\n",
    "p1 = Pessoa(\"Rafael\", 31)\n",
    "# print(p.__nome) # Vai gerar um erro, pois é \"privado\"\n",
    "\n",
    "# Forma correta de acessar um atributo privado\n",
    "print(p1.get_nome())\n",
    "\n",
    "# Acessando o atributo \"privado\" via name mangling (não recomendado)\n",
    "print(p1._Pessoa__nome)"
   ],
   "id": "d09a0dcbfc4a7f4f"
  },
  {
   "metadata": {},
   "cell_type": "markdown",
   "source": [
    "<h4>Resumo das Convenções de Modificadores de acesso:</h4>\n",
    "<li><b>Público:</b> Atributos e métodos sem sublinhados que podem ser acessados de qualquer lugar.</li>\n",
    "<li><b>Protegido: </b> Atributos e métodos com <b>um sublinhado</b> (<code>_</code>) são indicados como protegidos, ou seja, a convenção sugere que eles devem ser acessados apenas por dentro da classe e de suas subclasses.</li>\n",
    "<li><b>Privado:</b> Atributos e métodos privados com  <b>dois sublinhado</b> (<code>__</code>)</li> são recomendados internamente para dificultar o acesso direto. Embora seja possivel acessar com <code>name mangling</code>, essa prática não é recomendada.\n",
    "\n",
    "<br>\n",
    "<h4>Aplicações e Boas Práticas</h4>\n",
    "<li><b>Atributos Públicos: </b> são úteis para dados que podem ser modificados diretamente ou que precisam ser acessíveis fora da classe.</li>\n",
    "<li><b>Atributos Protegidos: </b> são usados quando se deseja controlar o acesso e modificação, mas permitir acesso a subclasse.</li>\n",
    "<li><b>Atributos Privados</b> são ideais quando se quer esconder completamente detalhes de implementação e garantir que o acesso externo só ocorra por meio de métodos definidos na classe.</li>"
   ],
   "id": "d2c8f573f5ff0758"
  }
 ],
 "metadata": {
  "kernelspec": {
   "display_name": "Python 3",
   "language": "python",
   "name": "python3"
  },
  "language_info": {
   "codemirror_mode": {
    "name": "ipython",
    "version": 2
   },
   "file_extension": ".py",
   "mimetype": "text/x-python",
   "name": "python",
   "nbconvert_exporter": "python",
   "pygments_lexer": "ipython2",
   "version": "2.7.6"
  }
 },
 "nbformat": 4,
 "nbformat_minor": 5
}
