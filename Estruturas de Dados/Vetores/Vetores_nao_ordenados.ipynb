{
 "cells": [
  {
   "metadata": {},
   "cell_type": "markdown",
   "source": "<h4>Implementação 1 - Classe e Impressão</h4>",
   "id": "1f6198db5f3e645e"
  },
  {
   "metadata": {
    "collapsed": true,
    "ExecuteTime": {
     "end_time": "2024-10-08T14:53:04.733327Z",
     "start_time": "2024-10-08T14:53:04.727580Z"
    }
   },
   "cell_type": "code",
   "source": [
    "import numpy as np\n",
    "\n",
    "class VetorNaoOrdenado:\n",
    "    def __init__(self, capacidade):\n",
    "        self.capacidade = capacidade\n",
    "        self.ultima_posicao = -1\n",
    "        self.valores = np.empty(self.capacidade, dtype=int)\n",
    "        \n",
    "    # O(n)\n",
    "    def imprimir(self):\n",
    "        if self.ultima_posicao == -1:\n",
    "            print('O vetor está vazio!')\n",
    "        else:\n",
    "            for i in range(self.ultima_posicao + 1):\n",
    "                print(i, ' - ', self.valores[i])\n",
    "           \n",
    "    # O(1)     \n",
    "    def insere(self, valor):\n",
    "        if self.ultima_posicao == self.capacidade - 1:\n",
    "            print('O vetor está cheio!')\n",
    "        else:\n",
    "            self.ultima_posicao += 1\n",
    "            self.valores[self.ultima_posicao] = valor\n",
    "            \n",
    "    def pesquisar(self, valor):\n",
    "        for i in range(self.ultima_posicao + 1):\n",
    "            if self.valores[i] == valor:\n",
    "                return i\n",
    "        return -1\n",
    "    \n",
    "    # O(n)\n",
    "    def excluir(self, valor):\n",
    "        posicao = self.pesquisar(valor)\n",
    "        if posicao == -1:\n",
    "            print('Não existe o elemento no vetor!')\n",
    "        else:\n",
    "            for i in range(posicao, self.ultima_posicao):\n",
    "                self.valores[i] = self.valores[i + 1]\n",
    "            self.ultima_posicao -= 1\n",
    "                \n",
    "        \n",
    "vetor = VetorNaoOrdenado(5)\n",
    "vetor.imprimir()"
   ],
   "id": "initial_id",
   "outputs": [
    {
     "name": "stdout",
     "output_type": "stream",
     "text": [
      "O vetor está vazio!\n"
     ]
    }
   ],
   "execution_count": 31
  },
  {
   "metadata": {
    "ExecuteTime": {
     "end_time": "2024-10-08T14:25:22.934231Z",
     "start_time": "2024-10-08T14:25:22.925704Z"
    }
   },
   "cell_type": "code",
   "source": [
    "# Adicionado elementos ao vetor com metodo de inserir\n",
    "vetor.insere(11)\n",
    "vetor.insere(17)\n",
    "vetor.insere(1)\n",
    "vetor.insere(13)\n",
    "vetor.insere(9)\n",
    "vetor.imprimir()\n",
    "# Inserir um elemento fora da capacidade do vetor\n",
    "vetor.insere(9) # Saída : 'O vetor está cheio!\n",
    "\n"
   ],
   "id": "3bb59973317a9b9b",
   "outputs": [
    {
     "name": "stdout",
     "output_type": "stream",
     "text": [
      "0  -  11\n",
      "1  -  17\n",
      "2  -  1\n",
      "3  -  13\n",
      "4  -  9\n",
      "O vetor está cheio!\n"
     ]
    }
   ],
   "execution_count": 27
  },
  {
   "metadata": {
    "ExecuteTime": {
     "end_time": "2024-10-08T14:25:26.569864Z",
     "start_time": "2024-10-08T14:25:26.566599Z"
    }
   },
   "cell_type": "code",
   "source": [
    "# Executando metodo de busca\n",
    "print(vetor.pesquisar(13))"
   ],
   "id": "bd63207a56e9b4f5",
   "outputs": [
    {
     "name": "stdout",
     "output_type": "stream",
     "text": [
      "3\n"
     ]
    }
   ],
   "execution_count": 28
  },
  {
   "metadata": {
    "ExecuteTime": {
     "end_time": "2024-10-08T14:25:41.870547Z",
     "start_time": "2024-10-08T14:25:41.866838Z"
    }
   },
   "cell_type": "code",
   "source": [
    "# Executando metodo de excluir\n",
    "vetor.excluir(11)\n",
    "vetor.imprimir()"
   ],
   "id": "2aea275f7945e4ad",
   "outputs": [
    {
     "name": "stdout",
     "output_type": "stream",
     "text": [
      "0  -  17\n",
      "1  -  1\n",
      "2  -  9\n"
     ]
    }
   ],
   "execution_count": 30
  }
 ],
 "metadata": {
  "kernelspec": {
   "display_name": "Python 3",
   "language": "python",
   "name": "python3"
  },
  "language_info": {
   "codemirror_mode": {
    "name": "ipython",
    "version": 2
   },
   "file_extension": ".py",
   "mimetype": "text/x-python",
   "name": "python",
   "nbconvert_exporter": "python",
   "pygments_lexer": "ipython2",
   "version": "2.7.6"
  }
 },
 "nbformat": 4,
 "nbformat_minor": 5
}
